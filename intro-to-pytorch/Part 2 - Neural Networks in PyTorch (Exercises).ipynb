{
 "cells": [
  {
   "cell_type": "markdown",
   "metadata": {},
   "source": [
    "# Neural networks with PyTorch\n",
    "\n",
    "Deep learning networks tend to be massive with dozens or hundreds of layers, that's where the term \"deep\" comes from. You can build one of these deep networks using only weight matrices as we did in the previous notebook, but in general it's very cumbersome and difficult to implement. PyTorch has a nice module `nn` that provides a nice way to efficiently build large neural networks."
   ]
  },
  {
   "cell_type": "code",
   "execution_count": 1,
   "metadata": {
    "collapsed": true
   },
   "outputs": [],
   "source": [
    "# Import necessary packages\n",
    "\n",
    "%matplotlib inline\n",
    "%config InlineBackend.figure_format = 'retina'\n",
    "\n",
    "import numpy as np\n",
    "import torch\n",
    "\n",
    "import helper\n",
    "\n",
    "import matplotlib.pyplot as plt"
   ]
  },
  {
   "cell_type": "markdown",
   "metadata": {},
   "source": [
    "\n",
    "Now we're going to build a larger network that can solve a (formerly) difficult problem, identifying text in an image. Here we'll use the MNIST dataset which consists of greyscale handwritten digits. Each image is 28x28 pixels, you can see a sample below\n",
    "\n",
    "<img src='assets/mnist.png'>\n",
    "\n",
    "Our goal is to build a neural network that can take one of these images and predict the digit in the image.\n",
    "\n",
    "First up, we need to get our dataset. This is provided through the `torchvision` package. The code below will download the MNIST dataset, then create training and test datasets for us. Don't worry too much about the details here, you'll learn more about this later."
   ]
  },
  {
   "cell_type": "code",
   "execution_count": 2,
   "metadata": {},
   "outputs": [],
   "source": [
    "# The MNIST datasets are hosted on yann.lecun.com that has moved under CloudFlare protection\n",
    "# Run this script to enable the datasets download\n",
    "# Reference: https://github.com/pytorch/vision/issues/1938\n",
    "\n",
    "from six.moves import urllib\n",
    "opener = urllib.request.build_opener()\n",
    "opener.addheaders = [('User-agent', 'Mozilla/5.0')]\n",
    "urllib.request.install_opener(opener)"
   ]
  },
  {
   "cell_type": "code",
   "execution_count": 5,
   "metadata": {
    "collapsed": true
   },
   "outputs": [],
   "source": [
    "### Run this cell\n",
    "import torch\n",
    "from torchvision import datasets, transforms\n",
    "\n",
    "# Define a transform to normalize the data\n",
    "transform = transforms.Compose([\n",
    "    transforms.ToTensor(),\n",
    "    transforms.Normalize((0.5,), (0.5,)),\n",
    "    ]) \n",
    "# the args in Normalize is mean and sd, the author assuming the mean and sd to be 0.5\n",
    "# which may not be correct. if uniform(0,1), mean = 0.5, sd = 1/sqrt(12)\n",
    "# and the real mean is around -0.7, as the range is (-1,1)\n",
    "\n",
    "# Download and load the training data\n",
    "trainset = datasets.MNIST(\n",
    "    \"~/.pytorch/MNIST_data/\", download=True, train=True, transform=transform\n",
    ")\n",
    "trainloader = torch.utils.data.DataLoader(trainset, batch_size=64, shuffle=True)"
   ]
  },
  {
   "cell_type": "markdown",
   "metadata": {},
   "source": [
    "We have the training data loaded into `trainloader` and we make that an iterator with `iter(trainloader)`. Later, we'll use this to loop through the dataset for training, like\n",
    "\n",
    "```python\n",
    "for image, label in trainloader:\n",
    "    ## do things with images and labels\n",
    "```\n",
    "\n",
    "You'll notice I created the `trainloader` with a batch size of 64, and `shuffle=True`. The batch size is the number of images we get in one iteration from the data loader and pass through our network, often called a *batch*. And `shuffle=True` tells it to shuffle the dataset every time we start going through the data loader again. But here I'm just grabbing the first batch so we can check out the data. We can see below that `images` is just a tensor with size `(64, 1, 28, 28)`. So, 64 images per batch, 1 color channel, and 28x28 images."
   ]
  },
  {
   "cell_type": "code",
   "execution_count": 18,
   "metadata": {
    "collapsed": true
   },
   "outputs": [
    {
     "name": "stdout",
     "output_type": "stream",
     "text": [
      "<class 'torch.Tensor'>\n",
      "torch.Size([64, 1, 28, 28])\n",
      "torch.Size([64])\n"
     ]
    }
   ],
   "source": [
    "dataiter = iter(trainloader)\n",
    "images, labels = next(dataiter)\n",
    "print(type(images))\n",
    "print(images.shape)\n",
    "print(labels.shape)"
   ]
  },
  {
   "cell_type": "code",
   "execution_count": 17,
   "metadata": {},
   "outputs": [
    {
     "name": "stdout",
     "output_type": "stream",
     "text": [
      "tensor(-0.7409)\n",
      "tensor(-1.)\n",
      "tensor(1.)\n"
     ]
    }
   ],
   "source": [
    "# mine\n",
    "print(torch.mean(images))\n",
    "print(torch.min(images))\n",
    "print(torch.max(images))"
   ]
  },
  {
   "cell_type": "markdown",
   "metadata": {},
   "source": [
    "This is what one of the images looks like. "
   ]
  },
  {
   "cell_type": "code",
   "execution_count": 19,
   "metadata": {
    "collapsed": true
   },
   "outputs": [
    {
     "data": {
      "image/png": "[encoded data removed]",
      "text/plain": [
       "<Figure size 640x480 with 1 Axes>"
      ]
     },
     "metadata": {
      "image/png": {
       "height": 413,
       "width": 417
      }
     },
     "output_type": "display_data"
    }
   ],
   "source": [
    "plt.imshow(images[1].numpy().squeeze(), cmap='Greys_r');"
   ]
  },
  {
   "cell_type": "markdown",
   "metadata": {},
   "source": [
    "First, let's try to build a simple network for this dataset using weight matrices and matrix multiplications. Then, we'll see how to do it using PyTorch's `nn` module which provides a much more convenient and powerful method for defining network architectures.\n",
    "\n",
    "The networks you've seen so far are called *fully-connected* or *dense* networks. Each unit in one layer is connected to each unit in the next layer. In fully-connected networks, the input to each layer must be a one-dimensional vector (which can be stacked into a 2D tensor as a batch of multiple examples). However, our images are 28x28 2D tensors, so we need to convert them into 1D vectors. Thinking about sizes, we need to convert the batch of images with shape `(64, 1, 28, 28)` to a have a shape of `(64, 784)`, 784 is 28 times 28. This is typically called *flattening*, we flattened the 2D images into 1D vectors.\n",
    "\n",
    "Previously you built a network with one output unit. Here we need 10 output units, one for each digit. We want our network to predict the digit shown in an image, so what we'll do is calculate probabilities that the image is of any one digit or class. This ends up being a discrete probability distribution over the classes (digits) that tells us the most likely class for the image. That means we need 10 output units for the 10 classes (digits). We'll see how to convert the network output into a probability distribution next.\n",
    "\n",
    "> **Exercise:** Flatten the batch of images `images`. Then build a multi-layer network with 784 input units, 256 hidden units, and 10 output units using random tensors for the weights and biases. For now, use a sigmoid activation for the hidden layer. Leave the output layer without an activation, we'll add one that gives us a probability distribution next."
   ]
  },
  {
   "cell_type": "code",
   "execution_count": 50,
   "metadata": {
    "collapsed": true
   },
   "outputs": [
    {
     "name": "stdout",
     "output_type": "stream",
     "text": [
      "tensor([[-2.9445e+00, -2.3747e+00,  5.1712e+00,  4.1698e+00,  2.2175e+01,\n",
      "          1.8010e-01,  6.0573e+00,  5.1840e-01, -1.9993e+01, -2.2839e+01],\n",
      "        [-9.7864e+00, -4.7113e+00, -2.3047e+00,  1.4848e+00,  2.2549e+01,\n",
      "          1.5489e+00,  5.2310e-02,  7.0223e+00, -2.5322e+01, -1.6586e+01],\n",
      "        [-1.2332e+01, -1.8284e+01,  3.6743e+00,  1.0567e+00,  1.8015e+01,\n",
      "          2.2880e+00,  9.2734e+00, -8.5458e-01, -2.4314e+01, -2.3701e+01],\n",
      "        [-1.5518e+00, -1.2286e+01,  7.4364e+00, -9.4721e+00,  1.3680e+01,\n",
      "         -3.9019e+00,  3.9537e+00,  5.0195e+00, -2.2090e+01, -1.3783e+01],\n",
      "        [-3.7543e+00, -1.3438e+01,  6.6656e+00, -7.1812e+00,  2.0114e+01,\n",
      "         -5.5178e+00,  4.7387e+00,  3.4276e+00, -1.9346e+01, -2.0490e+01],\n",
      "        [-3.4293e-01, -5.2602e+00,  1.2018e+01,  1.4113e+01,  2.1786e+01,\n",
      "         -1.5792e+01,  3.5437e+00,  1.6737e+00, -2.2063e+01, -1.6406e+01],\n",
      "        [-7.1698e+00, -1.2943e+01,  6.1729e+00,  7.0153e-01,  2.2689e+01,\n",
      "         -4.9325e+00, -6.0115e+00,  3.9867e+00, -3.0020e+01, -1.6583e+01],\n",
      "        [-3.3253e+00, -9.7712e+00,  1.3220e+00, -7.3820e+00,  5.3791e+00,\n",
      "         -1.6329e+01,  3.3396e+00,  1.0576e+01, -2.4814e+01, -1.7518e+01],\n",
      "        [-1.3503e+01, -1.1074e+01,  6.4041e+00, -5.1166e+00,  2.2297e+01,\n",
      "         -3.4435e+00, -2.3799e+00,  8.3169e+00, -2.4887e+01, -1.9836e+01],\n",
      "        [-6.0996e+00, -1.9445e+00,  3.1337e+00, -8.9790e+00,  1.0436e+01,\n",
      "         -3.0832e+00,  3.8198e-01,  2.1693e+00, -2.1171e+01, -2.0223e+01],\n",
      "        [-3.3145e+00, -1.3744e+01, -1.4758e+00, -1.5374e+00,  1.8962e+01,\n",
      "         -2.2433e+00,  2.7584e+00,  1.1162e+01, -2.1899e+01, -1.4058e+01],\n",
      "        [-1.0284e+01, -1.3554e+01,  2.5908e+00, -1.3984e+01,  1.9808e+01,\n",
      "          5.3173e-01,  7.2794e+00,  4.1102e+00, -1.5256e+01, -2.1231e+01],\n",
      "        [-1.1289e+01, -1.1085e+01,  1.4532e+00, -3.7562e+00,  1.4602e+01,\n",
      "          1.3274e+00,  8.8752e-01,  3.0348e+00, -2.1112e+01, -1.7837e+01],\n",
      "        [-1.3373e+01, -6.9851e+00,  6.4697e+00, -2.5840e+00,  1.2766e+01,\n",
      "         -1.2812e+00,  2.0268e+00,  3.4418e+00, -1.8752e+01, -2.2522e+01],\n",
      "        [-1.0249e+01, -1.4740e+01,  1.3542e+01, -2.0683e+00,  1.8555e+01,\n",
      "         -6.4168e+00,  1.2235e+01,  2.6560e+00, -2.0271e+01, -1.7273e+01],\n",
      "        [-1.1330e+01, -9.2256e+00,  2.8587e+00, -2.5255e+00,  1.7041e+01,\n",
      "         -1.0613e+01, -1.9884e+00, -1.2454e+00, -2.6371e+01, -2.7497e+01],\n",
      "        [ 4.2276e+00, -7.1931e+00, -1.4928e+00,  5.6200e+00,  7.1762e+00,\n",
      "         -1.9326e-01,  7.7407e+00,  1.9318e+00, -2.5625e+01, -1.5161e+01],\n",
      "        [-7.6267e-01, -1.4533e+01,  3.6226e+00, -1.5762e+00,  2.0822e+01,\n",
      "          1.0976e+00,  1.0200e+00,  4.5002e+00, -1.9630e+01, -1.9942e+01],\n",
      "        [-3.2077e+00, -1.3189e+01,  1.5593e+01, -3.6718e+00,  2.1471e+01,\n",
      "         -5.0726e+00,  4.5414e+00,  1.0439e+00, -2.3035e+01, -1.7422e+01],\n",
      "        [-7.9367e+00, -1.6253e+01, -3.7477e+00,  3.9721e+00,  7.9176e+00,\n",
      "         -4.3049e+00, -4.8399e-01,  1.1834e+01, -2.0071e+01, -2.0168e+01],\n",
      "        [-1.8442e+00, -7.9584e+00,  5.6867e+00,  3.0808e+00,  1.8720e+01,\n",
      "          1.3048e-01, -2.0417e+00,  3.9118e+00, -1.8219e+01, -1.9241e+01],\n",
      "        [-3.0655e+00, -8.0104e+00, -1.0148e+00, -1.3444e+01,  1.4062e+01,\n",
      "         -2.2828e+00,  7.4151e+00,  4.7145e+00, -1.5344e+01, -2.6427e+01],\n",
      "        [-1.3098e+01, -1.1449e+01,  5.9707e+00,  6.6851e+00,  1.4295e+01,\n",
      "         -3.2828e+00, -2.9976e+00,  6.7660e+00, -2.3247e+01, -2.9401e+01],\n",
      "        [-5.7258e+00, -1.2599e+01,  1.3810e+01,  9.1751e+00,  1.3972e+01,\n",
      "         -1.1749e+01,  6.1128e+00,  7.0623e+00, -1.8476e+01, -2.9108e+01],\n",
      "        [-3.3016e-01, -7.5457e+00,  3.3152e+00,  2.4849e+00,  1.2679e+01,\n",
      "         -8.6532e+00,  6.5701e+00, -4.6110e+00, -2.6579e+01, -1.6779e+01],\n",
      "        [-7.5813e+00, -1.2861e+01, -4.9444e+00, -5.1166e+00,  1.1108e+01,\n",
      "         -3.5332e+00,  3.2490e-01,  6.2135e+00, -3.0557e+01, -2.8128e+01],\n",
      "        [-9.1258e+00, -1.1914e+01, -3.1168e+00, -7.5455e+00,  8.9781e+00,\n",
      "          1.0156e+01,  8.7331e+00, -4.3214e+00, -2.3705e+01, -1.8311e+01],\n",
      "        [ 1.5686e+00, -1.0918e+01,  5.5159e+00, -5.7325e+00,  1.7923e+01,\n",
      "         -6.9941e-01,  1.1648e+01,  3.0729e+00, -1.8359e+01, -1.5277e+01],\n",
      "        [-1.3924e+01, -3.8697e+00,  7.6330e+00, -5.2639e+00,  1.6338e+01,\n",
      "         -3.1999e+00,  1.1473e+00, -4.5684e+00, -1.6919e+01, -3.4460e+01],\n",
      "        [-3.9656e-01, -1.0968e+01,  4.5379e+00, -3.7562e+00,  1.4392e+01,\n",
      "          1.6377e+00,  2.8773e+00, -3.6579e-01, -1.4122e+01, -2.4094e+01],\n",
      "        [-1.5249e+00, -5.1258e+00, -2.4706e+00, -1.0041e+00,  1.5027e+01,\n",
      "          2.4853e-01,  2.0851e+00,  2.6583e+00, -1.7472e+01, -2.5614e+01],\n",
      "        [-1.0532e+01, -8.4047e+00, -8.1067e+00,  2.3504e+00,  2.3537e+01,\n",
      "         -7.4125e+00, -2.3336e+00,  2.4402e+00, -2.8336e+01, -2.8453e+01],\n",
      "        [-8.9427e+00, -1.0436e+01,  1.2377e+01,  5.1496e+00,  9.7352e+00,\n",
      "          3.7299e-01, -6.1334e+00, -3.4959e+00, -1.9661e+01, -1.7298e+01],\n",
      "        [-1.0310e+01, -8.4518e+00,  5.3171e+00, -9.8275e+00,  1.4993e+01,\n",
      "         -1.1473e+00,  4.4518e+00,  7.2889e+00, -3.2370e+01, -2.4367e+01],\n",
      "        [-1.4556e+00, -1.2233e+01,  8.4466e+00, -5.7037e+00,  7.0114e+00,\n",
      "         -8.3383e+00,  9.7334e+00,  9.6265e+00, -2.2121e+01, -2.0786e+01],\n",
      "        [-9.4667e+00, -6.5385e+00,  7.6477e-01, -4.5376e+00,  1.2607e+01,\n",
      "         -2.3237e+00,  2.7096e+00, -5.1872e-01, -2.3420e+01, -3.5636e+01],\n",
      "        [-1.0979e+01, -1.5579e+01,  1.8372e+00, -1.2249e+01,  1.5899e+01,\n",
      "         -5.2305e+00,  1.1728e+01, -5.7484e+00, -1.8599e+01, -2.3263e+01],\n",
      "        [-3.8006e+00, -1.1093e+01,  5.8586e+00,  1.3369e+00,  1.0381e+01,\n",
      "         -2.1876e+00,  6.0373e+00,  3.8697e+00, -2.0987e+01, -2.7160e+01],\n",
      "        [-1.1523e+00, -1.2889e+01,  3.8670e+00,  8.1120e-01,  9.2127e+00,\n",
      "         -9.7972e+00,  8.0828e+00, -2.7536e+00, -2.4042e+01, -1.9159e+01],\n",
      "        [-4.3337e+00, -3.2929e+00,  2.0965e+00, -5.7184e-01,  1.4359e+01,\n",
      "         -1.6671e+00,  2.0108e+00,  3.0936e+00, -1.7576e+01, -2.1618e+01],\n",
      "        [-5.7305e+00, -8.7091e+00,  1.3313e+00, -3.6702e+00,  7.5213e+00,\n",
      "          3.1540e+00,  9.1487e+00, -2.0120e+00, -1.1794e+01, -2.1950e+01],\n",
      "        [ 5.4321e-01, -9.4573e+00,  5.9255e-02, -7.9209e+00,  1.4545e+01,\n",
      "          4.3593e+00, -2.0655e+00,  5.9930e-01, -2.5186e+01, -1.9387e+01],\n",
      "        [-8.1292e+00, -8.4392e+00,  1.1044e+01,  6.7362e+00,  2.2415e+01,\n",
      "         -5.2214e+00,  6.2637e+00,  6.0487e+00, -1.7527e+01, -2.5277e+01],\n",
      "        [-3.9442e+00, -9.5515e+00,  6.1486e-01, -1.0740e+01,  1.8042e+01,\n",
      "         -3.0422e+00, -4.8668e+00, -1.0677e+00, -2.3257e+01, -1.0539e+01],\n",
      "        [-4.2273e+00, -8.8247e+00, -3.1343e-01, -2.0204e+00,  1.2700e+01,\n",
      "         -6.3059e+00,  2.9815e+00,  4.2085e+00, -2.6256e+01, -2.7651e+01],\n",
      "        [-2.0281e+00, -8.8113e+00,  7.7097e+00, -8.8192e+00,  1.2055e+01,\n",
      "         -1.0396e+00, -3.7734e+00,  3.9413e+00, -1.9343e+01, -1.5745e+01],\n",
      "        [ 2.1868e+00, -1.3899e+01,  1.5911e+01,  4.3771e+00,  1.5715e+01,\n",
      "         -4.9890e+00,  4.6406e+00,  5.7392e+00, -2.0406e+01, -2.3812e+01],\n",
      "        [ 3.9521e-01, -1.2508e+01,  4.2713e+00, -9.7142e-01,  1.0257e+01,\n",
      "         -4.7736e+00,  2.8016e+00,  1.1330e+01, -2.4014e+01, -6.8802e+00],\n",
      "        [-6.9226e+00, -6.6000e+00, -3.2673e+00,  1.0666e+00,  1.3397e+01,\n",
      "          5.5457e+00, -5.1810e+00,  1.0297e+01, -1.7134e+01, -1.6441e+01],\n",
      "        [-7.1124e+00, -2.1896e+01,  9.2292e+00,  8.9546e-01,  1.9213e+01,\n",
      "         -2.6524e+00,  1.4959e+00, -1.2321e+00, -1.5673e+01, -2.2297e+01],\n",
      "        [-9.3704e+00, -9.9517e+00, -2.1707e+00, -1.1146e+01,  2.2892e+01,\n",
      "          5.3412e+00,  5.8591e+00,  9.7277e+00, -1.0780e+01, -1.7256e+01],\n",
      "        [-7.0006e+00, -5.8381e+00,  1.1013e+01, -7.3275e+00,  1.4320e+01,\n",
      "         -6.6728e+00, -3.4683e+00, -4.1009e-01, -2.1144e+01, -2.4915e+01],\n",
      "        [-1.2769e+01, -1.6874e+01,  7.6122e+00, -1.6769e-02,  1.3559e+01,\n",
      "         -1.4610e+01, -5.8824e+00, -4.7808e-01, -2.3829e+01, -1.6006e+01],\n",
      "        [-1.0607e+01, -1.0761e+01,  1.5219e+00, -1.5282e+00, -9.2498e-01,\n",
      "         -9.9114e+00,  1.0924e+00,  5.3139e+00, -2.4528e+01, -2.0944e+01],\n",
      "        [-3.8459e-01, -3.7150e+00,  1.3985e+00, -3.1161e+00,  1.7269e+01,\n",
      "         -9.5109e+00,  6.0329e+00, -4.1908e+00, -2.4672e+01, -2.1671e+01],\n",
      "        [-5.1371e+00, -1.8971e+01,  6.2310e+00, -5.3571e+00,  2.2348e+01,\n",
      "         -2.0902e+00,  1.8064e+00,  7.8956e+00, -1.6621e+01, -1.6385e+01],\n",
      "        [-1.2383e+01, -8.2979e+00,  7.9008e+00,  2.8211e+00,  1.8221e+01,\n",
      "         -8.3353e+00, -6.4732e-01,  1.6314e+00, -2.6399e+01, -2.5898e+01],\n",
      "        [-1.1423e+01, -1.4854e+01,  2.5200e+00, -7.4400e+00,  1.4984e+01,\n",
      "         -9.9654e+00,  1.0467e+01,  2.1068e+00, -1.6904e+01, -2.2995e+01],\n",
      "        [-1.3751e+01, -4.0812e+00,  3.4389e+00,  7.2975e+00,  9.0698e+00,\n",
      "         -1.1531e+01, -5.5451e+00, -2.6509e-01, -2.2088e+01, -2.5922e+01],\n",
      "        [-1.3224e+01, -9.1899e+00, -3.3368e+00, -6.3776e+00,  1.9392e+01,\n",
      "         -6.4282e+00, -2.5001e+00,  2.4656e+00, -1.9004e+01, -1.9003e+01],\n",
      "        [-7.4690e-01, -1.2154e+01,  2.6371e+00, -7.2655e+00,  5.3245e+00,\n",
      "          9.7895e+00,  7.1098e+00,  2.0030e-01, -1.6186e+01, -2.0507e+01],\n",
      "        [-1.2359e+01, -2.1570e+00,  9.1678e+00,  2.9771e+00,  2.9214e+01,\n",
      "         -4.8177e+00,  7.4755e+00, -4.1083e+00, -2.8239e+01, -1.9344e+01],\n",
      "        [-9.6335e+00, -1.4418e+01,  8.4451e+00,  8.7056e+00,  1.4371e+01,\n",
      "         -1.3821e+00,  9.0458e+00,  4.1589e+00, -1.7352e+01, -2.9735e+01],\n",
      "        [-9.9922e+00, -3.7934e+00,  3.8020e+00, -6.1404e+00,  1.9198e+01,\n",
      "         -6.2512e-01,  2.4100e+00, -3.7323e+00, -1.7540e+01, -2.5416e+01]])\n",
      "torch.Size([64, 10])\n"
     ]
    }
   ],
   "source": [
    "## Your solution\n",
    "def sigmoid(x: torch.tensor) -> torch.tensor:\n",
    "    \"\"\" Sigmoid activation function test txt\n",
    "    \n",
    "        Arguments\n",
    "        ---------\n",
    "        x: torch.Tensor\n",
    "    \"\"\"\n",
    "    return 1/(1+torch.exp(-x))\n",
    "\n",
    "flatten_image = torch.reshape(images, (64,784))\n",
    "\n",
    "n_input = 784\n",
    "n_hidden = 256\n",
    "n_out = 10\n",
    "\n",
    "w_h = torch.randn(n_input, n_hidden)\n",
    "b_h = torch.randn(1, n_hidden)\n",
    "w_o = torch.randn(n_hidden, n_out)\n",
    "b_o = torch.randn(1, n_out)\n",
    "\n",
    "h = sigmoid(torch.mm(flatten_image, w_h) + b_h)\n",
    "out = torch.mm(h, w_o) + b_o\n",
    "print(out)\n",
    "print(out.shape)\n",
    "# output of your network, should have shape (64,10)"
   ]
  },
  {
   "cell_type": "markdown",
   "metadata": {},
   "source": [
    "Now we have 10 outputs for our network. We want to pass in an image to our network and get out a probability distribution over the classes that tells us the likely class(es) the image belongs to. Something that looks like this:\n",
    "<img src='assets/image_distribution.png' width=500px>\n",
    "\n",
    "Here we see that the probability for each class is roughly the same. This is representing an untrained network, it hasn't seen any data yet so it just returns a uniform distribution with equal probabilities for each class.\n",
    "\n",
    "To calculate this probability distribution, we often use the [**softmax** function](https://en.wikipedia.org/wiki/Softmax_function). Mathematically this looks like\n",
    "\n",
    "$$\n",
    "\\Large \\sigma(x_i) = \\cfrac{e^{x_i}}{\\sum_k^K{e^{x_k}}}\n",
    "$$\n",
    "\n",
    "What this does is squish each input $x_i$ between 0 and 1 and normalizes the values to give you a proper probability distribution where the probabilites sum up to one.\n",
    "\n",
    "> **Exercise:** Implement a function `softmax` that performs the softmax calculation and returns probability distributions for each example in the batch. Note that you'll need to pay attention to the shapes when doing this. If you have a tensor `a` with shape `(64, 10)` and a tensor `b` with shape `(64,)`, doing `a/b` will give you an error because PyTorch will try to do the division across the columns (called broadcasting) but you'll get a size mismatch. The way to think about this is for each of the 64 examples, you only want to divide by one value, the sum in the denominator. So you need `b` to have a shape of `(64, 1)`. This way PyTorch will divide the 10 values in each row of `a` by the one value in each row of `b`. Pay attention to how you take the sum as well. You'll need to define the `dim` keyword in `torch.sum`. Setting `dim=0` takes the sum across the rows while `dim=1` takes the sum across the columns."
   ]
  },
  {
   "cell_type": "code",
   "execution_count": 48,
   "metadata": {
    "collapsed": true
   },
   "outputs": [
    {
     "name": "stdout",
     "output_type": "stream",
     "text": [
      "torch.Size([64, 10])\n",
      "tensor([1.0000, 1.0000, 1.0000, 1.0000, 1.0000, 1.0000, 1.0000, 1.0000, 1.0000,\n",
      "        1.0000, 1.0000, 1.0000, 1.0000, 1.0000, 1.0000, 1.0000, 1.0000, 1.0000,\n",
      "        1.0000, 1.0000, 1.0000, 1.0000, 1.0000, 1.0000, 1.0000, 1.0000, 1.0000,\n",
      "        1.0000, 1.0000, 1.0000, 1.0000, 1.0000, 1.0000, 1.0000, 1.0000, 1.0000,\n",
      "        1.0000, 1.0000, 1.0000, 1.0000, 1.0000, 1.0000, 1.0000, 1.0000, 1.0000,\n",
      "        1.0000, 1.0000, 1.0000, 1.0000, 1.0000, 1.0000, 1.0000, 1.0000, 1.0000,\n",
      "        1.0000, 1.0000, 1.0000, 1.0000, 1.0000, 1.0000, 1.0000, 1.0000, 1.0000,\n",
      "        1.0000])\n"
     ]
    }
   ],
   "source": [
    "def softmax(x):\n",
    "    x = torch.exp(-x)\n",
    "    return x/torch.sum(x, dim = 1).view(64,1)\n",
    "\n",
    "# Here, out should be the output of the network in the previous excercise with shape (64,10)\n",
    "probabilities = softmax(out)\n",
    "\n",
    "# Does it have the right shape? Should be (64, 10)\n",
    "print(probabilities.shape)\n",
    "# Does it sum to 1?\n",
    "print(probabilities.sum(dim=1))"
   ]
  },
  {
   "cell_type": "markdown",
   "metadata": {},
   "source": [
    "## Building networks with PyTorch\n",
    "\n",
    "PyTorch provides a module `nn` that makes building networks much simpler. Here I'll show you how to build the same one as above with 784 inputs, 256 hidden units, 10 output units and a softmax output."
   ]
  },
  {
   "cell_type": "code",
   "execution_count": 49,
   "metadata": {
    "collapsed": true
   },
   "outputs": [],
   "source": [
    "from torch import nn"
   ]
  },
  {
   "cell_type": "code",
   "execution_count": null,
   "metadata": {
    "collapsed": true
   },
   "outputs": [],
   "source": [
    "class Network(nn.Module):\n",
    "    def __init__(self):\n",
    "        super(Network, self).__init__()\n",
    "        \n",
    "        # Inputs to hidden layer linear transformation\n",
    "        self.hidden = nn.Linear(784, 256)\n",
    "        # Output layer, 10 units - one for each digit\n",
    "        self.output = nn.Linear(256, 10)\n",
    "        \n",
    "        # Define sigmoid activation and softmax output \n",
    "        self.sigmoid = nn.Sigmoid()\n",
    "        self.softmax = nn.Softmax(dim=1)\n",
    "        \n",
    "    def forward(self, x):\n",
    "        # Pass the input tensor through each of our operations\n",
    "        x = self.hidden(x)\n",
    "        x = self.sigmoid(x)\n",
    "        x = self.output(x)\n",
    "        x = self.softmax(x)\n",
    "        \n",
    "        return x"
   ]
  },
  {
   "cell_type": "markdown",
   "metadata": {},
   "source": [
    "Let's go through this bit by bit.\n",
    "\n",
    "```python\n",
    "class Network(nn.Module):\n",
    "```\n",
    "\n",
    "Here we're inheriting from `nn.Module`. Combined with `super().__init__()` this creates a class that tracks the architecture and provides a lot of useful methods and attributes. It is mandatory to inherit from `nn.Module` when you're creating a class for your network. The name of the class itself can be anything.\n",
    "\n",
    "```python\n",
    "self.hidden = nn.Linear(784, 256)\n",
    "```\n",
    "\n",
    "This line creates a module for a linear transformation, $x\\mathbf{W} + b$, with 784 inputs and 256 outputs and assigns it to `self.hidden`. The module automatically creates the weight and bias tensors which we'll use in the `forward` method. You can access the weight and bias tensors once the network (`net`) is created with `net.hidden.weight` and `net.hidden.bias`.\n",
    "\n",
    "```python\n",
    "self.output = nn.Linear(256, 10)\n",
    "```\n",
    "\n",
    "Similarly, this creates another linear transformation with 256 inputs and 10 outputs.\n",
    "\n",
    "```python\n",
    "self.sigmoid = nn.Sigmoid()\n",
    "self.softmax = nn.Softmax(dim=1)\n",
    "```\n",
    "\n",
    "Here I defined operations for the sigmoid activation and softmax output. Setting `dim=1` in `nn.Softmax(dim=1)` calculates softmax across the columns.\n",
    "\n",
    "```python\n",
    "def forward(self, x):\n",
    "```\n",
    "\n",
    "PyTorch networks created with `nn.Module` must have a `forward` method defined. It takes in a tensor `x` and passes it through the operations you defined in the `__init__` method.\n",
    "\n",
    "```python\n",
    "x = self.hidden(x)\n",
    "x = self.sigmoid(x)\n",
    "x = self.output(x)\n",
    "x = self.softmax(x)\n",
    "```\n",
    "\n",
    "Here the input tensor `x` is passed through each operation and reassigned to `x`. We can see that the input tensor goes through the hidden layer, then a sigmoid function, then the output layer, and finally the softmax function. It doesn't matter what you name the variables here, as long as the inputs and outputs of the operations match the network architecture you want to build. The order in which you define things in the `__init__` method doesn't matter, but you'll need to sequence the operations correctly in the `forward` method.\n",
    "\n",
    "Now we can create a `Network` object."
   ]
  },
  {
   "cell_type": "code",
   "execution_count": null,
   "metadata": {
    "collapsed": true
   },
   "outputs": [],
   "source": [
    "# Create the network and look at it's text representation\n",
    "model = Network()\n",
    "model"
   ]
  },
  {
   "cell_type": "markdown",
   "metadata": {},
   "source": [
    "You can define the network somewhat more concisely and clearly using the `torch.nn.functional` module. This is the most common way you'll see networks defined as many operations are simple element-wise functions. We normally import this module as `F`, `import torch.nn.functional as F`."
   ]
  },
  {
   "cell_type": "code",
   "execution_count": null,
   "metadata": {
    "collapsed": true
   },
   "outputs": [],
   "source": [
    "import torch.nn.functional as F\n",
    "\n",
    "class Network(nn.Module):\n",
    "    def __init__(self):\n",
    "        super().__init__()\n",
    "        # Inputs to hidden layer linear transformation\n",
    "        self.hidden = nn.Linear(784, 256)\n",
    "        # Output layer, 10 units - one for each digit\n",
    "        self.output = nn.Linear(256, 10)\n",
    "        \n",
    "    def forward(self, x):\n",
    "        # Hidden layer with sigmoid activation\n",
    "        x = F.sigmoid(self.hidden(x))\n",
    "        # Output layer with softmax activation\n",
    "        x = F.softmax(self.output(x), dim=1)\n",
    "        \n",
    "        return x"
   ]
  },
  {
   "cell_type": "markdown",
   "metadata": {},
   "source": [
    "### Activation functions\n",
    "\n",
    "So far we've only been looking at the sigmoid activation function, but in general any function can be used as an activation function. The only requirement is that for a network to approximate a non-linear function, the activation functions must be non-linear. Here are a few more examples of common activation functions: Tanh (hyperbolic tangent), and ReLU (rectified linear unit).\n",
    "\n",
    "<img src=\"assets/activation.png\" width=700px>\n",
    "\n",
    "In practice, the ReLU function is used almost exclusively as the activation function for hidden layers."
   ]
  },
  {
   "cell_type": "markdown",
   "metadata": {},
   "source": [
    "### Your Turn to Build a Network\n",
    "\n",
    "<img src=\"assets/mlp_mnist.png\" width=600px>\n",
    "\n",
    "> **Exercise:** Create a network with 784 input units, a hidden layer with 128 units and a ReLU activation, then a hidden layer with 64 units and a ReLU activation, and finally an output layer with a softmax activation as shown above. You can use a ReLU activation with the `nn.ReLU` module or `F.relu` function.\n",
    "\n",
    "It's good practice to name your layers by their type of network, for instance 'fc' to represent a fully-connected layer. As you code your solution, use `fc1`, `fc2`, and `fc3` as your layer names."
   ]
  },
  {
   "cell_type": "code",
   "execution_count": 2,
   "metadata": {
    "collapsed": true,
    "scrolled": true
   },
   "outputs": [
    {
     "data": {
      "text/plain": [
       "MyModel(\n",
       "  (fc1): Linear(in_features=784, out_features=128, bias=True)\n",
       "  (fc2): Linear(in_features=128, out_features=64, bias=True)\n",
       "  (fc3): Linear(in_features=64, out_features=10, bias=True)\n",
       ")"
      ]
     },
     "execution_count": 2,
     "metadata": {},
     "output_type": "execute_result"
    }
   ],
   "source": [
    "## Your solution here\n",
    "from torch import nn\n",
    "from torch.nn import functional as F\n",
    "class MyModel(nn.Module):\n",
    "    def __init__(self) -> None:\n",
    "        super().__init__()\n",
    "        self.fc1 = nn.Linear(in_features=784, out_features=128)\n",
    "        self.fc2 = nn.Linear(in_features=128, out_features=64)\n",
    "        self.fc3 = nn.Linear(in_features=64, out_features=10)\n",
    "\n",
    "    def forward(self, x):\n",
    "        x = F.relu(self.fc1(x))\n",
    "        x = F.relu(self.fc2(x))\n",
    "        x = F.softmax(self.fc3(x), dim=1)\n",
    "        return x\n",
    "\n",
    "model = MyModel()\n",
    "model"
   ]
  },
  {
   "cell_type": "markdown",
   "metadata": {},
   "source": [
    "### Initializing weights and biases\n",
    "\n",
    "The weights and such are automatically initialized for you, but it's possible to customize how they are initialized. The weights and biases are tensors attached to the layer you defined, you can get them with `model.fc1.weight` for instance."
   ]
  },
  {
   "cell_type": "code",
   "execution_count": 70,
   "metadata": {
    "collapsed": true
   },
   "outputs": [
    {
     "name": "stdout",
     "output_type": "stream",
     "text": [
      "Parameter containing:\n",
      "tensor([[-1.3806e-03, -6.3350e-03,  2.0714e-02,  ..., -2.5837e-02,\n",
      "         -1.8150e-02,  2.2954e-02],\n",
      "        [-1.1783e-02, -2.9320e-02,  2.6596e-02,  ..., -1.8401e-02,\n",
      "          2.5572e-02, -3.4181e-03],\n",
      "        [-2.7417e-02, -3.5666e-02, -2.2347e-02,  ..., -1.7777e-02,\n",
      "          2.2508e-02, -2.5959e-02],\n",
      "        ...,\n",
      "        [ 1.0356e-02,  1.3511e-02, -2.8991e-02,  ..., -3.0860e-02,\n",
      "         -1.2671e-02,  3.3936e-03],\n",
      "        [ 5.7611e-03, -1.8195e-03,  3.5460e-02,  ..., -4.3378e-03,\n",
      "          1.3215e-02, -1.9868e-02],\n",
      "        [-1.3385e-02,  6.0976e-05,  8.2485e-03,  ..., -2.6889e-02,\n",
      "         -1.8938e-02,  1.6311e-03]], requires_grad=True)\n"
     ]
    }
   ],
   "source": [
    "print(model.fc1.weight)\n",
    "# print(model.fc1.bias.shape)"
   ]
  },
  {
   "cell_type": "markdown",
   "metadata": {},
   "source": [
    "For custom initialization, we want to modify these tensors in place. These are actually autograd *Variables*, so we need to get back the actual tensors with `model.fc1.weight.data`. Once we have the tensors, we can fill them with zeros (for biases) or random normal values."
   ]
  },
  {
   "cell_type": "code",
   "execution_count": 72,
   "metadata": {
    "collapsed": true
   },
   "outputs": [
    {
     "data": {
      "text/plain": [
       "torch.nn.parameter.Parameter"
      ]
     },
     "execution_count": 72,
     "metadata": {},
     "output_type": "execute_result"
    }
   ],
   "source": [
    "# Set biases to all zeros\n",
    "type(model.fc1.bias)"
   ]
  },
  {
   "cell_type": "code",
   "execution_count": 95,
   "metadata": {
    "collapsed": true
   },
   "outputs": [
    {
     "data": {
      "text/plain": [
       "tensor([[-1.1405e-02,  3.0866e-04,  5.1895e-03,  ...,  9.9514e-03,\n",
       "          2.1997e-03, -1.8412e-02],\n",
       "        [-1.9281e-03,  2.1983e-03,  1.4633e-02,  ..., -2.6964e-04,\n",
       "          3.8340e-03,  1.8061e-02],\n",
       "        [-2.8621e-03,  8.0528e-03, -3.8760e-03,  ..., -1.6644e-02,\n",
       "         -1.1206e-02, -9.2264e-03],\n",
       "        ...,\n",
       "        [-9.4882e-03, -1.5760e-02, -1.0423e-02,  ..., -1.3508e-03,\n",
       "         -3.8484e-05, -2.2537e-03],\n",
       "        [ 8.8292e-03,  4.1005e-03, -9.0573e-03,  ..., -1.6767e-02,\n",
       "         -1.4991e-02,  5.1383e-03],\n",
       "        [-1.1921e-02, -1.3734e-02,  1.0377e-02,  ...,  1.4599e-02,\n",
       "         -9.8444e-03,  6.2771e-03]])"
      ]
     },
     "execution_count": 95,
     "metadata": {},
     "output_type": "execute_result"
    }
   ],
   "source": [
    "# sample from random normal with standard dev = 0.01\n",
    "model.fc1.weight.data.normal_(std=0.01)"
   ]
  },
  {
   "cell_type": "markdown",
   "metadata": {},
   "source": [
    "### Forward pass\n",
    "\n",
    "Now that we have a network, let's see what happens when we pass in an image."
   ]
  },
  {
   "cell_type": "code",
   "execution_count": 105,
   "metadata": {
    "collapsed": true
   },
   "outputs": [
    {
     "data": {
      "image/png": "[encoded data removed]",
      "text/plain": [
       "<Figure size 600x900 with 2 Axes>"
      ]
     },
     "metadata": {
      "image/png": {
       "height": 327,
       "width": 589
      }
     },
     "output_type": "display_data"
    }
   ],
   "source": [
    "# Grab some data \n",
    "dataiter = iter(trainloader)\n",
    "images, labels = next(dataiter)\n",
    "\n",
    "# Resize images into a 1D vector, new shape is (batch size, color channels, image pixels) \n",
    "images.resize_(64, 1, 784)\n",
    "# or images.resize_(images.shape[0], 1, 784) to automatically get batch size\n",
    "\n",
    "# Forward pass through the network\n",
    "img_idx = 15\n",
    "ps = model.forward(images[img_idx])\n",
    "\n",
    "img = images[img_idx]\n",
    "helper.view_classify(img.view(1, 28, 28), ps)"
   ]
  },
  {
   "cell_type": "markdown",
   "metadata": {},
   "source": [
    "As you can see above, our network has basically no idea what this digit is. It's because we haven't trained it yet, all the weights are random!\n",
    "\n",
    "### Using `nn.Sequential`\n",
    "\n",
    "PyTorch provides a convenient way to build networks like this where a tensor is passed sequentially through operations, `nn.Sequential` ([documentation](https://pytorch.org/docs/master/nn.html#torch.nn.Sequential)). Using this to build the equivalent network:"
   ]
  },
  {
   "cell_type": "code",
   "execution_count": 9,
   "metadata": {
    "collapsed": true
   },
   "outputs": [
    {
     "name": "stdout",
     "output_type": "stream",
     "text": [
      "Sequential(\n",
      "  (0): Linear(in_features=784, out_features=128, bias=True)\n",
      "  (1): ReLU()\n",
      "  (2): Linear(in_features=128, out_features=64, bias=True)\n",
      "  (3): ReLU()\n",
      "  (4): Linear(in_features=64, out_features=10, bias=True)\n",
      "  (5): Softmax(dim=0)\n",
      ")\n"
     ]
    },
    {
     "data": {
      "image/png": "[encoded data removed]",
      "text/plain": [
       "<Figure size 600x900 with 2 Axes>"
      ]
     },
     "metadata": {},
     "output_type": "display_data"
    }
   ],
   "source": [
    "# Hyperparameters for our network\n",
    "import helper\n",
    "input_size = 784\n",
    "hidden_sizes = [128, 64]\n",
    "output_size = 10\n",
    "\n",
    "# Build a feed-forward network\n",
    "model = nn.Sequential(nn.Linear(input_size, hidden_sizes[0]),\n",
    "                      nn.ReLU(),\n",
    "                      nn.Linear(hidden_sizes[0], hidden_sizes[1]),\n",
    "                      nn.ReLU(),\n",
    "                      nn.Linear(hidden_sizes[1], output_size),\n",
    "                      nn.Softmax(dim=0))\n",
    "print(model)\n",
    "\n",
    "# Forward pass through the network and display output\n",
    "images, labels = next(iter(trainloader))\n",
    "images.resize_(images.shape[0], 784)\n",
    "ps = model.forward(images[0])\n",
    "helper.view_classify(images[0].view(1, 28, 28), ps)"
   ]
  },
  {
   "cell_type": "markdown",
   "metadata": {},
   "source": [
    "Here our model is the same as before: 784 input units, a hidden layer with 128 units, ReLU activation, 64 unit hidden layer, another ReLU, then the output layer with 10 units, and the softmax output.\n",
    "\n",
    "The operations are available by passing in the appropriate index. For example, if you want to get first Linear operation and look at the weights, you'd use `model[0]`."
   ]
  },
  {
   "cell_type": "code",
   "execution_count": 112,
   "metadata": {
    "collapsed": true
   },
   "outputs": [
    {
     "name": "stdout",
     "output_type": "stream",
     "text": [
      "Linear(in_features=784, out_features=128, bias=True)\n"
     ]
    },
    {
     "data": {
      "text/plain": [
       "Parameter containing:\n",
       "tensor([[ 0.0144,  0.0299,  0.0259,  ...,  0.0212,  0.0257,  0.0260],\n",
       "        [ 0.0154, -0.0009,  0.0222,  ...,  0.0008, -0.0107, -0.0263],\n",
       "        [-0.0052, -0.0046, -0.0089,  ...,  0.0274, -0.0198, -0.0249],\n",
       "        ...,\n",
       "        [ 0.0323, -0.0100,  0.0118,  ...,  0.0250,  0.0182,  0.0147],\n",
       "        [ 0.0286,  0.0113,  0.0169,  ...,  0.0333,  0.0235,  0.0346],\n",
       "        [ 0.0180,  0.0189,  0.0193,  ...,  0.0240, -0.0024,  0.0119]],\n",
       "       requires_grad=True)"
      ]
     },
     "execution_count": 112,
     "metadata": {},
     "output_type": "execute_result"
    }
   ],
   "source": [
    "print(model[0])\n",
    "model[0].weight"
   ]
  },
  {
   "cell_type": "markdown",
   "metadata": {},
   "source": [
    "You can also pass in an `OrderedDict` to name the individual layers and operations, instead of using incremental integers. Note that dictionary keys must be unique, so _each operation must have a different name_."
   ]
  },
  {
   "cell_type": "code",
   "execution_count": 140,
   "metadata": {
    "collapsed": true
   },
   "outputs": [
    {
     "data": {
      "text/plain": [
       "Sequential(\n",
       "  (fc1): Linear(in_features=784, out_features=128, bias=True)\n",
       "  (relu1): ReLU()\n",
       "  (fc2): Linear(in_features=128, out_features=64, bias=True)\n",
       "  (relu2): ReLU()\n",
       "  (output): Linear(in_features=64, out_features=10, bias=True)\n",
       "  (softmax): Softmax(dim=1)\n",
       ")"
      ]
     },
     "execution_count": 140,
     "metadata": {},
     "output_type": "execute_result"
    }
   ],
   "source": [
    "from collections import OrderedDict\n",
    "model = nn.Sequential(OrderedDict([\n",
    "                      ('fc1', nn.Linear(input_size, hidden_sizes[0])),\n",
    "                      ('relu1', nn.ReLU()),\n",
    "                      ('fc2', nn.Linear(hidden_sizes[0], hidden_sizes[1])),\n",
    "                      ('relu2', nn.ReLU()),\n",
    "                      ('output', nn.Linear(hidden_sizes[1], output_size)),\n",
    "                      ('softmax', nn.Softmax(dim=1))]))\n",
    "model"
   ]
  },
  {
   "cell_type": "markdown",
   "metadata": {},
   "source": [
    "Now you can access layers either by integer or the name"
   ]
  },
  {
   "cell_type": "code",
   "execution_count": 141,
   "metadata": {
    "collapsed": true
   },
   "outputs": [
    {
     "name": "stdout",
     "output_type": "stream",
     "text": [
      "Linear(in_features=784, out_features=128, bias=True)\n",
      "Linear(in_features=784, out_features=128, bias=True)\n"
     ]
    }
   ],
   "source": [
    "print(model[0])\n",
    "print(model.fc1)"
   ]
  },
  {
   "cell_type": "markdown",
   "metadata": {},
   "source": [
    "In the next notebook, we'll see how we can train a neural network to accuractly predict the numbers appearing in the MNIST images."
   ]
  },
  {
   "cell_type": "code",
   "execution_count": null,
   "metadata": {},
   "outputs": [],
   "source": []
  }
 ],
 "metadata": {
  "kernelspec": {
   "display_name": "Python [default]",
   "language": "python",
   "name": "python3"
  },
  "language_info": {
   "codemirror_mode": {
    "name": "ipython",
    "version": 3
   },
   "file_extension": ".py",
   "mimetype": "text/x-python",
   "name": "python",
   "nbconvert_exporter": "python",
   "pygments_lexer": "ipython3",
   "version": "3.10.13"
  }
 },
 "nbformat": 4,
 "nbformat_minor": 2
}
