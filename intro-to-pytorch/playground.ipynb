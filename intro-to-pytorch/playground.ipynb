{
 "cells": [
  {
   "cell_type": "code",
   "execution_count": 87,
   "metadata": {},
   "outputs": [],
   "source": [
    "from dataclasses import dataclass\n",
    "from abc import ABC, abstractclassmethod\n",
    "import math\n",
    "\n",
    "class Shape(ABC):\n",
    "    @abstractclassmethod\n",
    "    def area(self):\n",
    "        pass\n",
    "    @abstractclassmethod\n",
    "    def perimeter(self):\n",
    "        pass\n",
    "\n",
    "@dataclass(slots=True)\n",
    "class Triangel(Shape):\n",
    "    side_1: float\n",
    "    side_2: float\n",
    "    side_3: float\n",
    "    def __init__(self, side_1, side_2, side_3):\n",
    "        if (side_1 >= side_2 + side_3) or (side_2 >= side_1 + side_3) or (side_3 >= side_1 + side_2):\n",
    "            raise ValueError(\"invaild length\")\n",
    "        self.side_1 = side_1\n",
    "        self.side_2 = side_2\n",
    "        self.side_3 = side_3\n",
    "\n",
    "    @property\n",
    "    def area(self):\n",
    "        s = self.perimeter/2\n",
    "        return math.sqrt(s*(s-self.side_1)*(s-self.side_2)*(s-self.side_3))\n",
    "    \n",
    "    @property\n",
    "    def perimeter(self):\n",
    "        return self.side_1 + self.side_2 + self.side_3\n",
    "\n",
    "@dataclass(slots=True)\n",
    "class Square(Shape):\n",
    "    side_length: float\n",
    "\n",
    "    @property\n",
    "    def area(self):\n",
    "        return self.side_length**2\n",
    "    \n",
    "    @property\n",
    "    def perimeter(self):\n",
    "        return self.side_length*4\n",
    "\n",
    "@dataclass(slots=True)\n",
    "class Retangeal(Shape):\n",
    "    length: float\n",
    "    width: float\n",
    "    @property\n",
    "    def area(self):\n",
    "        return self.length * self.width\n",
    "    \n",
    "    @property\n",
    "    def perimeter(self):\n",
    "        return (self.length + self.width)*2 \n"
   ]
  },
  {
   "cell_type": "code",
   "execution_count": 88,
   "metadata": {},
   "outputs": [],
   "source": [
    "a = Retangeal(10, 15)\n"
   ]
  },
  {
   "cell_type": "code",
   "execution_count": 94,
   "metadata": {},
   "outputs": [
    {
     "data": {
      "text/plain": [
       "True"
      ]
     },
     "execution_count": 94,
     "metadata": {},
     "output_type": "execute_result"
    }
   ],
   "source": [
    "Shape.area.__isabstractmethod__"
   ]
  },
  {
   "cell_type": "code",
   "execution_count": null,
   "metadata": {},
   "outputs": [],
   "source": []
  }
 ],
 "metadata": {
  "kernelspec": {
   "display_name": "Python 3",
   "language": "python",
   "name": "python3"
  },
  "language_info": {
   "codemirror_mode": {
    "name": "ipython",
    "version": 3
   },
   "file_extension": ".py",
   "mimetype": "text/x-python",
   "name": "python",
   "nbconvert_exporter": "python",
   "pygments_lexer": "ipython3",
   "version": "3.10.13"
  }
 },
 "nbformat": 4,
 "nbformat_minor": 2
}
