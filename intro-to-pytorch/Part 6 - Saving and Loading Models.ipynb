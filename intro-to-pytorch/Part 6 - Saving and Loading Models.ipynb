{
 "cells": [
  {
   "cell_type": "markdown",
   "metadata": {},
   "source": [
    "# Saving and Loading Models\n",
    "\n",
    "In this notebook, I'll show you how to save and load models with PyTorch. This is important because you'll often want to load previously trained models to use in making predictions or to continue training on new data."
   ]
  },
  {
   "cell_type": "code",
   "execution_count": 1,
   "metadata": {},
   "outputs": [],
   "source": [
    "%matplotlib inline\n",
    "%config InlineBackend.figure_format = 'retina'\n",
    "\n",
    "import matplotlib.pyplot as plt\n",
    "\n",
    "import torch\n",
    "from torch import nn\n",
    "from torch import optim\n",
    "import torch.nn.functional as F\n",
    "from torchvision import datasets, transforms\n",
    "\n",
    "import helper\n",
    "import fc_model"
   ]
  },
  {
   "cell_type": "code",
   "execution_count": 2,
   "metadata": {},
   "outputs": [],
   "source": [
    "# Define a transform to normalize the data\n",
    "transform = transforms.Compose([transforms.ToTensor(),\n",
    "                                transforms.Normalize((0.5,), (0.5,))])\n",
    "# Download and load the training data\n",
    "trainset = datasets.FashionMNIST('~/.pytorch/F_MNIST_data/', download=True, train=True, transform=transform)\n",
    "trainloader = torch.utils.data.DataLoader(trainset, batch_size=64, shuffle=True)\n",
    "\n",
    "# Download and load the test data\n",
    "testset = datasets.FashionMNIST('~/.pytorch/F_MNIST_data/', download=True, train=False, transform=transform)\n",
    "testloader = torch.utils.data.DataLoader(testset, batch_size=64, shuffle=True)"
   ]
  },
  {
   "cell_type": "markdown",
   "metadata": {},
   "source": [
    "Here we can see one of the images."
   ]
  },
  {
   "cell_type": "code",
   "execution_count": 3,
   "metadata": {},
   "outputs": [
    {
     "data": {
      "image/png": "[encoded data removed]",
      "text/plain": [
       "<Figure size 640x480 with 1 Axes>"
      ]
     },
     "metadata": {
      "image/png": {
       "height": 389,
       "width": 389
      }
     },
     "output_type": "display_data"
    }
   ],
   "source": [
    "image, label = next(iter(trainloader))\n",
    "helper.imshow(image[0,:]);"
   ]
  },
  {
   "cell_type": "markdown",
   "metadata": {},
   "source": [
    "# Train a network\n",
    "\n",
    "To make things more concise here, I moved the model architecture and training code from the last part to a file called `fc_model`. Importing this, we can easily create a fully-connected network with `fc_model.Network`, and train the network using `fc_model.train`. I'll use this model (once it's trained) to demonstrate how we can save and load models."
   ]
  },
  {
   "cell_type": "code",
   "execution_count": 4,
   "metadata": {},
   "outputs": [],
   "source": [
    "# Create the network, define the criterion and optimizer\n",
    "\n",
    "model = fc_model.Network(784, 10, [512, 256, 128])\n",
    "criterion = nn.NLLLoss()\n",
    "optimizer = optim.Adam(model.parameters(), lr=0.001)"
   ]
  },
  {
   "cell_type": "code",
   "execution_count": 5,
   "metadata": {},
   "outputs": [
    {
     "name": "stdout",
     "output_type": "stream",
     "text": [
      "Epoch: 1/2..  Training Loss: 1.675..  Test Loss: 0.997..  Test Accuracy: 0.630\n",
      "Epoch: 1/2..  Training Loss: 1.053..  Test Loss: 0.754..  Test Accuracy: 0.725\n",
      "Epoch: 1/2..  Training Loss: 0.884..  Test Loss: 0.677..  Test Accuracy: 0.728\n",
      "Epoch: 1/2..  Training Loss: 0.784..  Test Loss: 0.673..  Test Accuracy: 0.742\n",
      "Epoch: 1/2..  Training Loss: 0.744..  Test Loss: 0.610..  Test Accuracy: 0.755\n",
      "Epoch: 1/2..  Training Loss: 0.716..  Test Loss: 0.609..  Test Accuracy: 0.761\n",
      "Epoch: 1/2..  Training Loss: 0.710..  Test Loss: 0.573..  Test Accuracy: 0.783\n",
      "Epoch: 1/2..  Training Loss: 0.652..  Test Loss: 0.576..  Test Accuracy: 0.788\n",
      "Epoch: 1/2..  Training Loss: 0.659..  Test Loss: 0.604..  Test Accuracy: 0.769\n",
      "Epoch: 1/2..  Training Loss: 0.640..  Test Loss: 0.559..  Test Accuracy: 0.788\n",
      "Epoch: 1/2..  Training Loss: 0.621..  Test Loss: 0.541..  Test Accuracy: 0.803\n",
      "Epoch: 1/2..  Training Loss: 0.638..  Test Loss: 0.532..  Test Accuracy: 0.802\n",
      "Epoch: 1/2..  Training Loss: 0.645..  Test Loss: 0.520..  Test Accuracy: 0.811\n",
      "Epoch: 1/2..  Training Loss: 0.589..  Test Loss: 0.524..  Test Accuracy: 0.809\n",
      "Epoch: 1/2..  Training Loss: 0.644..  Test Loss: 0.528..  Test Accuracy: 0.808\n",
      "Epoch: 1/2..  Training Loss: 0.608..  Test Loss: 0.510..  Test Accuracy: 0.809\n",
      "Epoch: 1/2..  Training Loss: 0.623..  Test Loss: 0.508..  Test Accuracy: 0.813\n",
      "Epoch: 1/2..  Training Loss: 0.574..  Test Loss: 0.495..  Test Accuracy: 0.816\n",
      "Epoch: 1/2..  Training Loss: 0.557..  Test Loss: 0.483..  Test Accuracy: 0.824\n",
      "Epoch: 1/2..  Training Loss: 0.574..  Test Loss: 0.503..  Test Accuracy: 0.814\n",
      "Epoch: 1/2..  Training Loss: 0.582..  Test Loss: 0.485..  Test Accuracy: 0.825\n",
      "Epoch: 1/2..  Training Loss: 0.572..  Test Loss: 0.470..  Test Accuracy: 0.829\n",
      "Epoch: 1/2..  Training Loss: 0.546..  Test Loss: 0.466..  Test Accuracy: 0.830\n",
      "Epoch: 2/2..  Training Loss: 0.562..  Test Loss: 0.481..  Test Accuracy: 0.823\n",
      "Epoch: 2/2..  Training Loss: 0.545..  Test Loss: 0.464..  Test Accuracy: 0.828\n",
      "Epoch: 2/2..  Training Loss: 0.520..  Test Loss: 0.476..  Test Accuracy: 0.830\n",
      "Epoch: 2/2..  Training Loss: 0.574..  Test Loss: 0.467..  Test Accuracy: 0.830\n",
      "Epoch: 2/2..  Training Loss: 0.520..  Test Loss: 0.471..  Test Accuracy: 0.830\n",
      "Epoch: 2/2..  Training Loss: 0.521..  Test Loss: 0.466..  Test Accuracy: 0.831\n",
      "Epoch: 2/2..  Training Loss: 0.539..  Test Loss: 0.453..  Test Accuracy: 0.836\n",
      "Epoch: 2/2..  Training Loss: 0.516..  Test Loss: 0.451..  Test Accuracy: 0.832\n",
      "Epoch: 2/2..  Training Loss: 0.547..  Test Loss: 0.476..  Test Accuracy: 0.826\n",
      "Epoch: 2/2..  Training Loss: 0.560..  Test Loss: 0.467..  Test Accuracy: 0.827\n",
      "Epoch: 2/2..  Training Loss: 0.559..  Test Loss: 0.465..  Test Accuracy: 0.833\n",
      "Epoch: 2/2..  Training Loss: 0.540..  Test Loss: 0.456..  Test Accuracy: 0.833\n",
      "Epoch: 2/2..  Training Loss: 0.540..  Test Loss: 0.457..  Test Accuracy: 0.833\n",
      "Epoch: 2/2..  Training Loss: 0.524..  Test Loss: 0.442..  Test Accuracy: 0.838\n",
      "Epoch: 2/2..  Training Loss: 0.536..  Test Loss: 0.470..  Test Accuracy: 0.830\n",
      "Epoch: 2/2..  Training Loss: 0.488..  Test Loss: 0.455..  Test Accuracy: 0.835\n",
      "Epoch: 2/2..  Training Loss: 0.517..  Test Loss: 0.456..  Test Accuracy: 0.835\n",
      "Epoch: 2/2..  Training Loss: 0.506..  Test Loss: 0.442..  Test Accuracy: 0.836\n",
      "Epoch: 2/2..  Training Loss: 0.539..  Test Loss: 0.456..  Test Accuracy: 0.833\n",
      "Epoch: 2/2..  Training Loss: 0.496..  Test Loss: 0.445..  Test Accuracy: 0.841\n",
      "Epoch: 2/2..  Training Loss: 0.521..  Test Loss: 0.442..  Test Accuracy: 0.846\n",
      "Epoch: 2/2..  Training Loss: 0.514..  Test Loss: 0.450..  Test Accuracy: 0.836\n",
      "Epoch: 2/2..  Training Loss: 0.486..  Test Loss: 0.438..  Test Accuracy: 0.840\n"
     ]
    }
   ],
   "source": [
    "fc_model.train(model, trainloader, testloader, criterion, optimizer, epochs=2)"
   ]
  },
  {
   "cell_type": "markdown",
   "metadata": {},
   "source": [
    "## Saving and loading networks\n",
    "\n",
    "As you can imagine, it's impractical to train a network every time you need to use it. Instead, we can save trained networks then load them later to train more or use them for predictions.\n",
    "\n",
    "The parameters for PyTorch networks are stored in a model's `state_dict`. We can see the state dict contains the weight and bias matrices for each of our layers."
   ]
  },
  {
   "cell_type": "code",
   "execution_count": 6,
   "metadata": {},
   "outputs": [
    {
     "name": "stdout",
     "output_type": "stream",
     "text": [
      "Our model: \n",
      "\n",
      " Network(\n",
      "  (hidden_layers): ModuleList(\n",
      "    (0): Linear(in_features=784, out_features=512, bias=True)\n",
      "    (1): Linear(in_features=512, out_features=256, bias=True)\n",
      "    (2): Linear(in_features=256, out_features=128, bias=True)\n",
      "  )\n",
      "  (output): Linear(in_features=128, out_features=10, bias=True)\n",
      "  (dropout): Dropout(p=0.5, inplace=False)\n",
      ") \n",
      "\n",
      "The state dict keys: \n",
      "\n",
      " odict_keys(['hidden_layers.0.weight', 'hidden_layers.0.bias', 'hidden_layers.1.weight', 'hidden_layers.1.bias', 'hidden_layers.2.weight', 'hidden_layers.2.bias', 'output.weight', 'output.bias'])\n"
     ]
    }
   ],
   "source": [
    "print(\"Our model: \\n\\n\", model, '\\n')\n",
    "print(\"The state dict keys: \\n\\n\", model.state_dict().keys())"
   ]
  },
  {
   "cell_type": "markdown",
   "metadata": {},
   "source": [
    "The simplest thing to do is simply save the state dict with `torch.save`. For example, we can save it to a file `'checkpoint.pth'`."
   ]
  },
  {
   "cell_type": "code",
   "execution_count": 7,
   "metadata": {},
   "outputs": [],
   "source": [
    "torch.save(model.state_dict(), 'checkpoint.pth')"
   ]
  },
  {
   "cell_type": "markdown",
   "metadata": {},
   "source": [
    "Then we can load the state dict with `torch.load`."
   ]
  },
  {
   "cell_type": "code",
   "execution_count": 8,
   "metadata": {},
   "outputs": [
    {
     "name": "stdout",
     "output_type": "stream",
     "text": [
      "odict_keys(['hidden_layers.0.weight', 'hidden_layers.0.bias', 'hidden_layers.1.weight', 'hidden_layers.1.bias', 'hidden_layers.2.weight', 'hidden_layers.2.bias', 'output.weight', 'output.bias'])\n"
     ]
    }
   ],
   "source": [
    "state_dict = torch.load('checkpoint.pth')\n",
    "print(state_dict.keys())"
   ]
  },
  {
   "cell_type": "markdown",
   "metadata": {},
   "source": [
    "And to load the state dict in to the network, you do `model.load_state_dict(state_dict)`."
   ]
  },
  {
   "cell_type": "code",
   "execution_count": 9,
   "metadata": {},
   "outputs": [
    {
     "data": {
      "text/plain": [
       "<All keys matched successfully>"
      ]
     },
     "execution_count": 9,
     "metadata": {},
     "output_type": "execute_result"
    }
   ],
   "source": [
    "model.load_state_dict(state_dict)"
   ]
  },
  {
   "cell_type": "markdown",
   "metadata": {},
   "source": [
    "Seems pretty straightforward, but as usual it's a bit more complicated. Loading the state dict works only if the model architecture is exactly the same as the checkpoint architecture. If I create a model with a different architecture, this fails."
   ]
  },
  {
   "cell_type": "code",
   "execution_count": 10,
   "metadata": {},
   "outputs": [
    {
     "ename": "RuntimeError",
     "evalue": "Error(s) in loading state_dict for Network:\n\tsize mismatch for hidden_layers.0.weight: copying a param with shape torch.Size([512, 784]) from checkpoint, the shape in current model is torch.Size([400, 784]).\n\tsize mismatch for hidden_layers.0.bias: copying a param with shape torch.Size([512]) from checkpoint, the shape in current model is torch.Size([400]).\n\tsize mismatch for hidden_layers.1.weight: copying a param with shape torch.Size([256, 512]) from checkpoint, the shape in current model is torch.Size([200, 400]).\n\tsize mismatch for hidden_layers.1.bias: copying a param with shape torch.Size([256]) from checkpoint, the shape in current model is torch.Size([200]).\n\tsize mismatch for hidden_layers.2.weight: copying a param with shape torch.Size([128, 256]) from checkpoint, the shape in current model is torch.Size([100, 200]).\n\tsize mismatch for hidden_layers.2.bias: copying a param with shape torch.Size([128]) from checkpoint, the shape in current model is torch.Size([100]).\n\tsize mismatch for output.weight: copying a param with shape torch.Size([10, 128]) from checkpoint, the shape in current model is torch.Size([10, 100]).",
     "output_type": "error",
     "traceback": [
      "\u001b[1;31m---------------------------------------------------------------------------\u001b[0m",
      "\u001b[1;31mRuntimeError\u001b[0m                              Traceback (most recent call last)",
      "\u001b[1;32mc:\\Users\\kit97\\Documents\\GitHub\\deep-learning-v2-pytorch\\intro-to-pytorch\\Part 6 - Saving and Loading Models.ipynb Cell 18\u001b[0m line \u001b[0;36m4\n\u001b[0;32m      <a href='vscode-notebook-cell:/c%3A/Users/kit97/Documents/GitHub/deep-learning-v2-pytorch/intro-to-pytorch/Part%206%20-%20Saving%20and%20Loading%20Models.ipynb#X23sZmlsZQ%3D%3D?line=1'>2</a>\u001b[0m model \u001b[39m=\u001b[39m fc_model\u001b[39m.\u001b[39mNetwork(\u001b[39m784\u001b[39m, \u001b[39m10\u001b[39m, [\u001b[39m400\u001b[39m, \u001b[39m200\u001b[39m, \u001b[39m100\u001b[39m])\n\u001b[0;32m      <a href='vscode-notebook-cell:/c%3A/Users/kit97/Documents/GitHub/deep-learning-v2-pytorch/intro-to-pytorch/Part%206%20-%20Saving%20and%20Loading%20Models.ipynb#X23sZmlsZQ%3D%3D?line=2'>3</a>\u001b[0m \u001b[39m# This will throw an error because the tensor sizes are wrong!\u001b[39;00m\n\u001b[1;32m----> <a href='vscode-notebook-cell:/c%3A/Users/kit97/Documents/GitHub/deep-learning-v2-pytorch/intro-to-pytorch/Part%206%20-%20Saving%20and%20Loading%20Models.ipynb#X23sZmlsZQ%3D%3D?line=3'>4</a>\u001b[0m model\u001b[39m.\u001b[39;49mload_state_dict(state_dict)\n",
      "File \u001b[1;32mc:\\Users\\kit97\\Documents\\GitHub\\PaddleLearing\\.conda\\lib\\site-packages\\torch\\nn\\modules\\module.py:2152\u001b[0m, in \u001b[0;36mModule.load_state_dict\u001b[1;34m(self, state_dict, strict, assign)\u001b[0m\n\u001b[0;32m   2147\u001b[0m         error_msgs\u001b[39m.\u001b[39minsert(\n\u001b[0;32m   2148\u001b[0m             \u001b[39m0\u001b[39m, \u001b[39m'\u001b[39m\u001b[39mMissing key(s) in state_dict: \u001b[39m\u001b[39m{}\u001b[39;00m\u001b[39m. \u001b[39m\u001b[39m'\u001b[39m\u001b[39m.\u001b[39mformat(\n\u001b[0;32m   2149\u001b[0m                 \u001b[39m'\u001b[39m\u001b[39m, \u001b[39m\u001b[39m'\u001b[39m\u001b[39m.\u001b[39mjoin(\u001b[39mf\u001b[39m\u001b[39m'\u001b[39m\u001b[39m\"\u001b[39m\u001b[39m{\u001b[39;00mk\u001b[39m}\u001b[39;00m\u001b[39m\"\u001b[39m\u001b[39m'\u001b[39m \u001b[39mfor\u001b[39;00m k \u001b[39min\u001b[39;00m missing_keys)))\n\u001b[0;32m   2151\u001b[0m \u001b[39mif\u001b[39;00m \u001b[39mlen\u001b[39m(error_msgs) \u001b[39m>\u001b[39m \u001b[39m0\u001b[39m:\n\u001b[1;32m-> 2152\u001b[0m     \u001b[39mraise\u001b[39;00m \u001b[39mRuntimeError\u001b[39;00m(\u001b[39m'\u001b[39m\u001b[39mError(s) in loading state_dict for \u001b[39m\u001b[39m{}\u001b[39;00m\u001b[39m:\u001b[39m\u001b[39m\\n\u001b[39;00m\u001b[39m\\t\u001b[39;00m\u001b[39m{}\u001b[39;00m\u001b[39m'\u001b[39m\u001b[39m.\u001b[39mformat(\n\u001b[0;32m   2153\u001b[0m                        \u001b[39mself\u001b[39m\u001b[39m.\u001b[39m\u001b[39m__class__\u001b[39m\u001b[39m.\u001b[39m\u001b[39m__name__\u001b[39m, \u001b[39m\"\u001b[39m\u001b[39m\\n\u001b[39;00m\u001b[39m\\t\u001b[39;00m\u001b[39m\"\u001b[39m\u001b[39m.\u001b[39mjoin(error_msgs)))\n\u001b[0;32m   2154\u001b[0m \u001b[39mreturn\u001b[39;00m _IncompatibleKeys(missing_keys, unexpected_keys)\n",
      "\u001b[1;31mRuntimeError\u001b[0m: Error(s) in loading state_dict for Network:\n\tsize mismatch for hidden_layers.0.weight: copying a param with shape torch.Size([512, 784]) from checkpoint, the shape in current model is torch.Size([400, 784]).\n\tsize mismatch for hidden_layers.0.bias: copying a param with shape torch.Size([512]) from checkpoint, the shape in current model is torch.Size([400]).\n\tsize mismatch for hidden_layers.1.weight: copying a param with shape torch.Size([256, 512]) from checkpoint, the shape in current model is torch.Size([200, 400]).\n\tsize mismatch for hidden_layers.1.bias: copying a param with shape torch.Size([256]) from checkpoint, the shape in current model is torch.Size([200]).\n\tsize mismatch for hidden_layers.2.weight: copying a param with shape torch.Size([128, 256]) from checkpoint, the shape in current model is torch.Size([100, 200]).\n\tsize mismatch for hidden_layers.2.bias: copying a param with shape torch.Size([128]) from checkpoint, the shape in current model is torch.Size([100]).\n\tsize mismatch for output.weight: copying a param with shape torch.Size([10, 128]) from checkpoint, the shape in current model is torch.Size([10, 100])."
     ]
    }
   ],
   "source": [
    "# Try this\n",
    "model = fc_model.Network(784, 10, [400, 200, 100])\n",
    "# This will throw an error because the tensor sizes are wrong!\n",
    "model.load_state_dict(state_dict)"
   ]
  },
  {
   "cell_type": "markdown",
   "metadata": {},
   "source": [
    "This means we need to rebuild the model exactly as it was when trained. Information about the model architecture needs to be saved in the checkpoint, along with the state dict. To do this, you build a dictionary with all the information you need to compeletely rebuild the model."
   ]
  },
  {
   "cell_type": "code",
   "execution_count": 11,
   "metadata": {},
   "outputs": [],
   "source": [
    "checkpoint = {'input_size': 784,\n",
    "              'output_size': 10,\n",
    "              'hidden_layers': [each.out_features for each in model.hidden_layers],\n",
    "              'state_dict': model.state_dict()}\n",
    "\n",
    "torch.save(checkpoint, 'checkpoint.pth')"
   ]
  },
  {
   "cell_type": "markdown",
   "metadata": {},
   "source": [
    "Now the checkpoint has all the necessary information to rebuild the trained model. You can easily make that a function if you want. Similarly, we can write a function to load checkpoints. "
   ]
  },
  {
   "cell_type": "code",
   "execution_count": 12,
   "metadata": {},
   "outputs": [],
   "source": [
    "def load_checkpoint(filepath):\n",
    "    checkpoint = torch.load(filepath)\n",
    "    model = fc_model.Network(checkpoint['input_size'],\n",
    "                             checkpoint['output_size'],\n",
    "                             checkpoint['hidden_layers'])\n",
    "    model.load_state_dict(checkpoint['state_dict'])\n",
    "    \n",
    "    return model"
   ]
  },
  {
   "cell_type": "code",
   "execution_count": 13,
   "metadata": {},
   "outputs": [
    {
     "name": "stdout",
     "output_type": "stream",
     "text": [
      "Network(\n",
      "  (hidden_layers): ModuleList(\n",
      "    (0): Linear(in_features=784, out_features=400, bias=True)\n",
      "    (1): Linear(in_features=400, out_features=200, bias=True)\n",
      "    (2): Linear(in_features=200, out_features=100, bias=True)\n",
      "  )\n",
      "  (output): Linear(in_features=100, out_features=10, bias=True)\n",
      "  (dropout): Dropout(p=0.5, inplace=False)\n",
      ")\n"
     ]
    }
   ],
   "source": [
    "model = load_checkpoint('checkpoint.pth')\n",
    "print(model)"
   ]
  },
  {
   "cell_type": "code",
   "execution_count": 16,
   "metadata": {},
   "outputs": [],
   "source": []
  },
  {
   "cell_type": "code",
   "execution_count": 19,
   "metadata": {},
   "outputs": [],
   "source": [
    "import torch\n",
    "import my_fc_model\n",
    "from importlib import reload\n",
    "from torchvision import datasets, transforms\n",
    "\n",
    "# Define a transform to normalize the data\n",
    "transform = transforms.Compose([transforms.ToTensor(),\n",
    "                                transforms.Normalize((0.5,), (0.5,))])\n",
    "# Download and load the training data\n",
    "trainloader = torch.utils.data.DataLoader(datasets.FashionMNIST('~/.pytorch/F_MNIST_data/', download=True, train=True, transform=transform), \n",
    "                                          batch_size=64, shuffle=True)\n",
    "\n",
    "# Download and load the test data\n",
    "testloader = torch.utils.data.DataLoader(datasets.FashionMNIST('~/.pytorch/F_MNIST_data/', download=True, train=False, transform=transform), \n",
    "                                        batch_size=64, shuffle=True)"
   ]
  },
  {
   "cell_type": "code",
   "execution_count": null,
   "metadata": {},
   "outputs": [],
   "source": [
    "reload(my_fc_model)\n",
    "model = my_fc_model.Network(in_features=784, out_features=10, hidden_layers_features=[256,128,64], drop_out = 0.2)\n",
    "criterion = nn.NLLLoss()\n",
    "optimizer = optim.Adam(model.parameters(), lr=0.003)\n",
    "\n",
    "my_fc_model.train_cycle(model, criterion, optimizer, trainloader, testloader, num_ecpochs=1)"
   ]
  },
  {
   "cell_type": "code",
   "execution_count": 55,
   "metadata": {},
   "outputs": [
    {
     "name": "stdout",
     "output_type": "stream",
     "text": [
      "\t100/938\ttrain_loss: 0.4134\n",
      "\t200/938\ttrain_loss: 0.4009\n",
      "\t300/938\ttrain_loss: 0.3991\n",
      "\t400/938\ttrain_loss: 0.3978\n",
      "\t500/938\ttrain_loss: 0.4003\n",
      "\t600/938\ttrain_loss: 0.4031\n",
      "\t700/938\ttrain_loss: 0.4038\n",
      "\t800/938\ttrain_loss: 0.4024\n",
      "\t900/938\ttrain_loss: 0.4030\n",
      "\t100/157\ttest_loss: 0.3932\taccuracy: 86.4531%\n",
      " 1/10\ttrain_loss: 0.4021\ttest_loss: 0.3976\taccuracy: 86.1365%\n",
      "\t100/938\ttrain_loss: 0.4161\n",
      "\t200/938\ttrain_loss: 0.4112\n",
      "\t300/938\ttrain_loss: 0.4102\n",
      "\t400/938\ttrain_loss: 0.4085\n",
      "\t500/938\ttrain_loss: 0.4089\n",
      "\t600/938\ttrain_loss: 0.4073\n",
      "\t700/938\ttrain_loss: 0.4052\n",
      "\t800/938\ttrain_loss: 0.4049\n",
      "\t900/938\ttrain_loss: 0.4061\n",
      "\t100/157\ttest_loss: 0.4045\taccuracy: 86.0000%\n",
      " 2/10\ttrain_loss: 0.4059\ttest_loss: 0.3992\taccuracy: 86.0768%\n",
      "\t100/938\ttrain_loss: 0.3868\n",
      "\t200/938\ttrain_loss: 0.4006\n",
      "\t300/938\ttrain_loss: 0.4011\n",
      "\t400/938\ttrain_loss: 0.4017\n",
      "\t500/938\ttrain_loss: 0.4012\n",
      "\t600/938\ttrain_loss: 0.4013\n",
      "\t700/938\ttrain_loss: 0.4017\n",
      "\t800/938\ttrain_loss: 0.4031\n",
      "\t900/938\ttrain_loss: 0.4039\n",
      "\t100/157\ttest_loss: 0.3985\taccuracy: 86.0625%\n",
      " 3/10\ttrain_loss: 0.4049\ttest_loss: 0.3997\taccuracy: 86.1067%\n",
      "\t100/938\ttrain_loss: 0.4056\n",
      "\t200/938\ttrain_loss: 0.4087\n",
      "\t300/938\ttrain_loss: 0.4000\n",
      "\t400/938\ttrain_loss: 0.3976\n",
      "\t500/938\ttrain_loss: 0.4008\n",
      "\t600/938\ttrain_loss: 0.4042\n",
      "\t700/938\ttrain_loss: 0.4046\n",
      "\t800/938\ttrain_loss: 0.4019\n",
      "\t900/938\ttrain_loss: 0.4020\n",
      "\t100/157\ttest_loss: 0.3966\taccuracy: 86.0000%\n",
      " 4/10\ttrain_loss: 0.4032\ttest_loss: 0.3971\taccuracy: 86.1664%\n",
      "\t100/938\ttrain_loss: 0.4040\n",
      "\t200/938\ttrain_loss: 0.4052\n",
      "\t300/938\ttrain_loss: 0.4042\n",
      "\t400/938\ttrain_loss: 0.4045\n",
      "\t500/938\ttrain_loss: 0.4039\n",
      "\t600/938\ttrain_loss: 0.4045\n",
      "\t700/938\ttrain_loss: 0.4050\n",
      "\t800/938\ttrain_loss: 0.4048\n",
      "\t900/938\ttrain_loss: 0.4038\n",
      "\t100/157\ttest_loss: 0.4001\taccuracy: 85.7812%\n",
      " 5/10\ttrain_loss: 0.4052\ttest_loss: 0.3996\taccuracy: 86.0470%\n",
      "\t100/938\ttrain_loss: 0.4216\n",
      "\t200/938\ttrain_loss: 0.4049\n",
      "\t300/938\ttrain_loss: 0.3943\n",
      "\t400/938\ttrain_loss: 0.3973\n",
      "\t500/938\ttrain_loss: 0.3978\n",
      "\t600/938\ttrain_loss: 0.3984\n",
      "\t700/938\ttrain_loss: 0.3998\n",
      "\t800/938\ttrain_loss: 0.3997\n",
      "\t900/938\ttrain_loss: 0.3993\n",
      "\t100/157\ttest_loss: 0.3980\taccuracy: 86.2344%\n",
      " 6/10\ttrain_loss: 0.3998\ttest_loss: 0.3989\taccuracy: 86.0470%\n",
      "\t100/938\ttrain_loss: 0.4007\n",
      "\t200/938\ttrain_loss: 0.3986\n",
      "\t300/938\ttrain_loss: 0.3958\n",
      "\t400/938\ttrain_loss: 0.3976\n",
      "\t500/938\ttrain_loss: 0.3981\n",
      "\t600/938\ttrain_loss: 0.3972\n",
      "\t700/938\ttrain_loss: 0.3972\n",
      "\t800/938\ttrain_loss: 0.3991\n",
      "\t900/938\ttrain_loss: 0.4006\n",
      "\t100/157\ttest_loss: 0.3897\taccuracy: 86.3750%\n",
      " 7/10\ttrain_loss: 0.4006\ttest_loss: 0.3984\taccuracy: 86.1067%\n",
      "\t100/938\ttrain_loss: 0.4078\n",
      "\t200/938\ttrain_loss: 0.4027\n",
      "\t300/938\ttrain_loss: 0.4030\n",
      "\t400/938\ttrain_loss: 0.4074\n",
      "\t500/938\ttrain_loss: 0.4025\n",
      "\t600/938\ttrain_loss: 0.3984\n",
      "\t700/938\ttrain_loss: 0.4008\n",
      "\t800/938\ttrain_loss: 0.4006\n",
      "\t900/938\ttrain_loss: 0.4006\n",
      "\t100/157\ttest_loss: 0.3925\taccuracy: 85.8906%\n",
      " 8/10\ttrain_loss: 0.4004\ttest_loss: 0.3971\taccuracy: 86.1664%\n",
      "\t100/938\ttrain_loss: 0.4074\n",
      "\t200/938\ttrain_loss: 0.4084\n",
      "\t300/938\ttrain_loss: 0.4067\n",
      "\t400/938\ttrain_loss: 0.4051\n",
      "\t500/938\ttrain_loss: 0.4009\n",
      "\t600/938\ttrain_loss: 0.4071\n",
      "\t700/938\ttrain_loss: 0.4047\n",
      "\t800/938\ttrain_loss: 0.4035\n",
      "\t900/938\ttrain_loss: 0.4011\n",
      "\t100/157\ttest_loss: 0.3964\taccuracy: 86.4062%\n",
      " 9/10\ttrain_loss: 0.4011\ttest_loss: 0.3984\taccuracy: 86.1067%\n",
      "\t100/938\ttrain_loss: 0.4132\n",
      "\t200/938\ttrain_loss: 0.4085\n",
      "\t300/938\ttrain_loss: 0.4025\n",
      "\t400/938\ttrain_loss: 0.3991\n",
      "\t500/938\ttrain_loss: 0.4008\n",
      "\t600/938\ttrain_loss: 0.4024\n",
      "\t700/938\ttrain_loss: 0.4023\n",
      "\t800/938\ttrain_loss: 0.4022\n",
      "\t900/938\ttrain_loss: 0.4015\n",
      "\t100/157\ttest_loss: 0.3991\taccuracy: 86.0156%\n",
      "10/10\ttrain_loss: 0.4017\ttest_loss: 0.3977\taccuracy: 86.1067%\n"
     ]
    }
   ],
   "source": [
    "my_fc_model.train_cycle(model, criterion, optimizer, trainloader, testloader, num_ecpochs=10)"
   ]
  },
  {
   "cell_type": "code",
   "execution_count": 58,
   "metadata": {},
   "outputs": [],
   "source": [
    "#save model config and state_dict\n",
    "my_check_point ={\n",
    "    \"config\":  {\"in_features\": 784,\n",
    "        \"out_features\": 10,\n",
    "        \"hidden_layers_features\": [ hidden_layer.out_features for hidden_layer in model.hidden_layers],\n",
    "        \"drop_out\": 0.2},\n",
    "    \"state_dict\": model.state_dict()\n",
    "    }\n",
    "torch.save(my_check_point, \"myCofigAndStateDict\")"
   ]
  },
  {
   "cell_type": "code",
   "execution_count": 60,
   "metadata": {},
   "outputs": [
    {
     "name": "stdout",
     "output_type": "stream",
     "text": [
      "\t100/157\ttest_loss: 2.3036\taccuracy: 11.3281%\n"
     ]
    },
    {
     "data": {
      "text/plain": [
       "(2.3037131409736196, 0.11634156050955415)"
      ]
     },
     "execution_count": 60,
     "metadata": {},
     "output_type": "execute_result"
    }
   ],
   "source": [
    "#del model and check accuracy of new model, should be around 10%\n",
    "del model\n",
    "model = my_fc_model.Network(in_features=784, out_features=10, hidden_layers_features=[256,128,64], drop_out = 0.2)\n",
    "my_fc_model.validate(model, criterion=criterion, testloader=testloader)"
   ]
  },
  {
   "cell_type": "code",
   "execution_count": 61,
   "metadata": {},
   "outputs": [
    {
     "name": "stdout",
     "output_type": "stream",
     "text": [
      "\t100/157\ttest_loss: 0.4784\taccuracy: 83.9531%\n"
     ]
    },
    {
     "data": {
      "text/plain": [
       "(0.4703093219524736, 0.8394705414012739)"
      ]
     },
     "execution_count": 61,
     "metadata": {},
     "output_type": "execute_result"
    }
   ],
   "source": [
    "# load back the trained model\n",
    "loaded_config = torch.load(\"myCofigAndStateDict\")\n",
    "model = my_fc_model.Network(**loaded_config[\"config\"])\n",
    "model.load_state_dict(loaded_config[\"state_dict\"])\n",
    "my_fc_model.validate(model, criterion=criterion, testloader=testloader)"
   ]
  },
  {
   "cell_type": "code",
   "execution_count": null,
   "metadata": {},
   "outputs": [],
   "source": []
  }
 ],
 "metadata": {
  "kernelspec": {
   "display_name": "Python 3",
   "language": "python",
   "name": "python3"
  },
  "language_info": {
   "codemirror_mode": {
    "name": "ipython",
    "version": 3
   },
   "file_extension": ".py",
   "mimetype": "text/x-python",
   "name": "python",
   "nbconvert_exporter": "python",
   "pygments_lexer": "ipython3",
   "version": "3.10.13"
  }
 },
 "nbformat": 4,
 "nbformat_minor": 2
}
